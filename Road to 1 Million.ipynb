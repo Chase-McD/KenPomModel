{
 "cells": [
  {
   "cell_type": "code",
   "execution_count": 9,
   "id": "8c93f08c",
   "metadata": {
    "scrolled": true
   },
   "outputs": [
    {
     "name": "stdout",
     "output_type": "stream",
     "text": [
      "Collecting lxml\n",
      "  Downloading lxml-4.9.2-cp310-cp310-win_amd64.whl (3.8 MB)\n",
      "     ---------------------------------------- 3.8/3.8 MB 2.6 MB/s eta 0:00:00\n",
      "Installing collected packages: lxml\n",
      "Successfully installed lxml-4.9.2\n"
     ]
    }
   ],
   "source": [
    "! pip install lxml"
   ]
  },
  {
   "cell_type": "code",
   "execution_count": 14,
   "id": "a2da9e8c",
   "metadata": {},
   "outputs": [],
   "source": [
    "## Import Utility Packages\n",
    "import numpy as np\n",
    "import pandas as pd\n",
    "import matplotlib.pyplot as plt\n",
    "import seaborn as sns\n",
    "# from sklearn.model_selection import train_test_split\n",
    "\n",
    "## Make np printouts easier to read\n",
    "np.set_printoptions(precision = 3, suppress = True)\n",
    "\n",
    "## Import Neural Network Packages\n",
    "import tensorflow as tf\n",
    "from tensorflow import keras\n",
    "from tensorflow.keras import layers\n",
    "from keras_visualizer import visualizer\n",
    "\n",
    "import lxml"
   ]
  },
  {
   "cell_type": "code",
   "execution_count": null,
   "id": "6d710659",
   "metadata": {},
   "outputs": [],
   "source": [
    "## Reads a single .csv file\n",
    "data = pd.read_csv('/Users/johnathan/Desktop/Sports !!!/Basketball/Data/KenPom/kp2022Dec12.csv')\n",
    "# data = pd.read_csv('C:\\Users\\cmcdo\\KenPomModel')\n",
    "## Remove season because it is all 2023 season data\n",
    "## Remove ranks to minimize bias\n",
    "clean = data.drop(columns = ['Season', 'RankTempo', 'RankAdjTempo', 'RankOE', 'RankAdjOE', 'RankDE', 'RankAdjDE', 'RankAdjEM'])\n",
    "#clean"
   ]
  },
  {
   "cell_type": "code",
   "execution_count": null,
   "id": "0b0ffa2e",
   "metadata": {},
   "outputs": [],
   "source": [
    "y = clean.AdjEM\n",
    "X = clean.drop(columns = ['AdjEM'])\n",
    "\n",
    "X_train, X_test, y_train, y_test = train_test_split(X, y, test_size = 0.25, random_state = 50)"
   ]
  },
  {
   "cell_type": "code",
   "execution_count": null,
   "id": "0c9a6278",
   "metadata": {},
   "outputs": [],
   "source": [
    "#X_train = np.asarray(X_train)\n",
    "X_train"
   ]
  },
  {
   "cell_type": "code",
   "execution_count": null,
   "id": "3d6fbd1b",
   "metadata": {
    "scrolled": false
   },
   "outputs": [],
   "source": [
    "## Normalized the data\n",
    "#normalizer = tf.keras.layers.Normalization(axis = -1)\n",
    "#normalizer.adapt(np.array(X_train))\n",
    "#print(normalizer.mean.numpy())\n",
    "\n",
    "#first = np.array(X_train[:1])\n",
    "\n",
    "#with np.printoptions(precision = 2, suppress = True):\n",
    "#    print('First Example:', first)\n",
    "#    print('Normalized:', normalizer(first).numpy())"
   ]
  },
  {
   "cell_type": "code",
   "execution_count": null,
   "id": "fbfdfea7",
   "metadata": {},
   "outputs": [],
   "source": [
    "## Define Explanatory Variables\n",
    "explain_vars = np.array(X_train.drop(columns = ['TeamName']))\n",
    "\n",
    "explain_norm = layers.Normalization(input_shape = [1, ], axis = None)\n",
    "explain_norm.adapt(explain_vars)"
   ]
  },
  {
   "cell_type": "code",
   "execution_count": null,
   "id": "7ccb2b71",
   "metadata": {},
   "outputs": [],
   "source": [
    "## Build Keras Sequential Model\n",
    "efficiency_model = tf.keras.Sequential([\n",
    "    explain_norm,\n",
    "    layers.Dense(units = 1)\n",
    "])\n",
    "\n",
    "efficiency_model.summary()\n",
    "efficiency_model.predict(explain_vars[:10])"
   ]
  },
  {
   "cell_type": "code",
   "execution_count": 17,
   "id": "b0bef225",
   "metadata": {},
   "outputs": [
    {
     "data": {
      "text/html": [
       "<div>\n",
       "<style scoped>\n",
       "    .dataframe tbody tr th:only-of-type {\n",
       "        vertical-align: middle;\n",
       "    }\n",
       "\n",
       "    .dataframe tbody tr th {\n",
       "        vertical-align: top;\n",
       "    }\n",
       "\n",
       "    .dataframe thead th {\n",
       "        text-align: right;\n",
       "    }\n",
       "</style>\n",
       "<table border=\"1\" class=\"dataframe\">\n",
       "  <thead>\n",
       "    <tr style=\"text-align: right;\">\n",
       "      <th></th>\n",
       "      <th>&lt;!DOCTYPE html&gt;</th>\n",
       "    </tr>\n",
       "  </thead>\n",
       "  <tbody>\n",
       "    <tr>\n",
       "      <th>0</th>\n",
       "      <td>&lt;!--[if lt IE 7]&gt;      &lt;html class=\"no-js lt-i...</td>\n",
       "    </tr>\n",
       "    <tr>\n",
       "      <th>1</th>\n",
       "      <td>&lt;!--[if IE 7]&gt;         &lt;html class=\"no-js lt-i...</td>\n",
       "    </tr>\n",
       "    <tr>\n",
       "      <th>2</th>\n",
       "      <td>&lt;!--[if IE 8]&gt;         &lt;html class=\"no-js lt-i...</td>\n",
       "    </tr>\n",
       "    <tr>\n",
       "      <th>3</th>\n",
       "      <td>&lt;!--[if gt IE 8]&gt;&lt;!--&gt; &lt;html class=\"no-js\"&gt; &lt;!...</td>\n",
       "    </tr>\n",
       "    <tr>\n",
       "      <th>4</th>\n",
       "      <td>&lt;head&gt;</td>\n",
       "    </tr>\n",
       "    <tr>\n",
       "      <th>...</th>\n",
       "      <td>...</td>\n",
       "    </tr>\n",
       "    <tr>\n",
       "      <th>791</th>\n",
       "      <td>})(window,document,'script','//www.google-an...</td>\n",
       "    </tr>\n",
       "    <tr>\n",
       "      <th>792</th>\n",
       "      <td>ga('create', 'UA-1568648-1', 'auto');</td>\n",
       "    </tr>\n",
       "    <tr>\n",
       "      <th>793</th>\n",
       "      <td>ga('send', 'pageview');</td>\n",
       "    </tr>\n",
       "    <tr>\n",
       "      <th>794</th>\n",
       "      <td>&lt;/script&gt;    &lt;/body&gt;</td>\n",
       "    </tr>\n",
       "    <tr>\n",
       "      <th>795</th>\n",
       "      <td>&lt;/html&gt;</td>\n",
       "    </tr>\n",
       "  </tbody>\n",
       "</table>\n",
       "<p>796 rows × 1 columns</p>\n",
       "</div>"
      ],
      "text/plain": [
       "                                       <!DOCTYPE html>\n",
       "0    <!--[if lt IE 7]>      <html class=\"no-js lt-i...\n",
       "1    <!--[if IE 7]>         <html class=\"no-js lt-i...\n",
       "2    <!--[if IE 8]>         <html class=\"no-js lt-i...\n",
       "3    <!--[if gt IE 8]><!--> <html class=\"no-js\"> <!...\n",
       "4                                               <head>\n",
       "..                                                 ...\n",
       "791    })(window,document,'script','//www.google-an...\n",
       "792              ga('create', 'UA-1568648-1', 'auto');\n",
       "793                            ga('send', 'pageview');\n",
       "794                               </script>    </body>\n",
       "795                                            </html>\n",
       "\n",
       "[796 rows x 1 columns]"
      ]
     },
     "execution_count": 17,
     "metadata": {},
     "output_type": "execute_result"
    }
   ],
   "source": [
    "import lxml\n",
    "\n",
    "url = 'https://basketball.realgm.com/ncaa/stats/2023/Averages/Qualified/All/Season/All/points/desc/1'\n",
    "\n",
    "pd.read_table(url)"
   ]
  },
  {
   "cell_type": "code",
   "execution_count": null,
   "id": "e3047456",
   "metadata": {},
   "outputs": [],
   "source": [
    "#got bored and made a game\n",
    "\n",
    "# Program to generate a random number between 0 and 9\n",
    "\n",
    "# importing the random module\n",
    "import random\n",
    "\n",
    "x = random.randint(0,9)\n",
    "\n",
    "ui = int(input())\n",
    "\n",
    "if x == ui:\n",
    "    print('Winner')\n",
    "else:\n",
    "    print('Loser')\n",
    "\n",
    "print('The corr1ect number was', x)\n",
    "\n"
   ]
  },
  {
   "cell_type": "code",
   "execution_count": null,
   "id": "651508aa",
   "metadata": {},
   "outputs": [],
   "source": []
  },
  {
   "cell_type": "markdown",
   "id": "89db56c8",
   "metadata": {},
   "source": [
    "# "
   ]
  }
 ],
 "metadata": {
  "kernelspec": {
   "display_name": "Python 3 (ipykernel)",
   "language": "python",
   "name": "python3"
  },
  "language_info": {
   "codemirror_mode": {
    "name": "ipython",
    "version": 3
   },
   "file_extension": ".py",
   "mimetype": "text/x-python",
   "name": "python",
   "nbconvert_exporter": "python",
   "pygments_lexer": "ipython3",
   "version": "3.10.6"
  }
 },
 "nbformat": 4,
 "nbformat_minor": 5
}
