{
 "cells": [
  {
   "cell_type": "code",
   "execution_count": 3,
   "id": "8c93f08c",
   "metadata": {
    "scrolled": true
   },
   "outputs": [
    {
     "name": "stdout",
     "output_type": "stream",
     "text": [
      "Collecting sklearn\n",
      "  Downloading sklearn-0.0.post1.tar.gz (3.6 kB)\n",
      "  Preparing metadata (setup.py): started\n",
      "  Preparing metadata (setup.py): finished with status 'done'\n",
      "Building wheels for collected packages: sklearn\n",
      "  Building wheel for sklearn (setup.py): started\n",
      "  Building wheel for sklearn (setup.py): finished with status 'done'\n",
      "  Created wheel for sklearn: filename=sklearn-0.0.post1-py3-none-any.whl size=2954 sha256=39117679e3d8ee7c257e7e518fb2f311d55e268d46334e03866a1d9b8f9f533e\n",
      "  Stored in directory: c:\\users\\cmcdo\\appdata\\local\\pip\\cache\\wheels\\db\\9f\\0b\\772886b624f84c138a5febb6966c89d374ab58c62bd65d109e\n",
      "Successfully built sklearn\n",
      "Installing collected packages: sklearn\n",
      "Successfully installed sklearn-0.0.post1\n"
     ]
    }
   ],
   "source": [
    "! pip install sklearn"
   ]
  },
  {
   "cell_type": "code",
   "execution_count": 6,
   "id": "a2da9e8c",
   "metadata": {},
   "outputs": [],
   "source": [
    "## Import Utility Packages\n",
    "import numpy as np\n",
    "import pandas as pd\n",
    "import matplotlib.pyplot as plt\n",
    "import seaborn as sns\n",
    "# from sklearn.model_selection import train_test_split\n",
    "\n",
    "## Make np printouts easier to read\n",
    "np.set_printoptions(precision = 3, suppress = True)\n",
    "\n",
    "## Import Neural Network Packages\n",
    "import tensorflow as tf\n",
    "from tensorflow import keras\n",
    "from tensorflow.keras import layers\n",
    "from keras_visualizer import visualizer"
   ]
  },
  {
   "cell_type": "code",
   "execution_count": null,
   "id": "6d710659",
   "metadata": {},
   "outputs": [],
   "source": [
    "## Reads a single .csv file\n",
    "data = pd.read_csv('/Users/johnathan/Desktop/Sports !!!/Basketball/Data/KenPom/kp2022Dec12.csv')\n",
    "# data = pd.read_csv('C:\\Users\\cmcdo\\KenPomModel')\n",
    "## Remove season because it is all 2023 season data\n",
    "## Remove ranks to minimize bias\n",
    "clean = data.drop(columns = ['Season', 'RankTempo', 'RankAdjTempo', 'RankOE', 'RankAdjOE', 'RankDE', 'RankAdjDE', 'RankAdjEM'])\n",
    "#clean"
   ]
  },
  {
   "cell_type": "code",
   "execution_count": null,
   "id": "0b0ffa2e",
   "metadata": {},
   "outputs": [],
   "source": [
    "y = clean.AdjEM\n",
    "X = clean.drop(columns = ['AdjEM'])\n",
    "\n",
    "X_train, X_test, y_train, y_test = train_test_split(X, y, test_size = 0.25, random_state = 50)"
   ]
  },
  {
   "cell_type": "code",
   "execution_count": null,
   "id": "0c9a6278",
   "metadata": {},
   "outputs": [],
   "source": [
    "#X_train = np.asarray(X_train)\n",
    "X_train"
   ]
  },
  {
   "cell_type": "code",
   "execution_count": null,
   "id": "3d6fbd1b",
   "metadata": {
    "scrolled": false
   },
   "outputs": [],
   "source": [
    "## Normalized the data\n",
    "#normalizer = tf.keras.layers.Normalization(axis = -1)\n",
    "#normalizer.adapt(np.array(X_train))\n",
    "#print(normalizer.mean.numpy())\n",
    "\n",
    "#first = np.array(X_train[:1])\n",
    "\n",
    "#with np.printoptions(precision = 2, suppress = True):\n",
    "#    print('First Example:', first)\n",
    "#    print('Normalized:', normalizer(first).numpy())"
   ]
  },
  {
   "cell_type": "code",
   "execution_count": null,
   "id": "fbfdfea7",
   "metadata": {},
   "outputs": [],
   "source": [
    "## Define Explanatory Variables\n",
    "explain_vars = np.array(X_train.drop(columns = ['TeamName']))\n",
    "\n",
    "explain_norm = layers.Normalization(input_shape = [1, ], axis = None)\n",
    "explain_norm.adapt(explain_vars)"
   ]
  },
  {
   "cell_type": "code",
   "execution_count": null,
   "id": "7ccb2b71",
   "metadata": {},
   "outputs": [],
   "source": [
    "## Build Keras Sequential Model\n",
    "efficiency_model = tf.keras.Sequential([\n",
    "    explain_norm,\n",
    "    layers.Dense(units = 1)\n",
    "])\n",
    "\n",
    "efficiency_model.summary()\n",
    "efficiency_model.predict(explain_vars[:10])"
   ]
  },
  {
   "cell_type": "code",
   "execution_count": null,
   "id": "b0bef225",
   "metadata": {},
   "outputs": [],
   "source": [
    "clean"
   ]
  },
  {
   "cell_type": "code",
   "execution_count": null,
   "id": "e3047456",
   "metadata": {},
   "outputs": [],
   "source": [
    "#got bored and made a game\n",
    "\n",
    "# Program to generate a random number between 0 and 9\n",
    "\n",
    "# importing the random module\n",
    "import random\n",
    "\n",
    "x = random.randint(0,9)\n",
    "\n",
    "ui = int(input())\n",
    "\n",
    "if x == ui:\n",
    "    print('Winner')\n",
    "else:\n",
    "    print('Loser')\n",
    "\n",
    "print('The corr1ect number was', x)\n",
    "\n"
   ]
  },
  {
   "cell_type": "code",
   "execution_count": null,
   "id": "651508aa",
   "metadata": {},
   "outputs": [],
   "source": []
  },
  {
   "cell_type": "markdown",
   "id": "89db56c8",
   "metadata": {},
   "source": [
    "# "
   ]
  }
 ],
 "metadata": {
  "kernelspec": {
   "display_name": "Python 3 (ipykernel)",
   "language": "python",
   "name": "python3"
  },
  "language_info": {
   "codemirror_mode": {
    "name": "ipython",
    "version": 3
   },
   "file_extension": ".py",
   "mimetype": "text/x-python",
   "name": "python",
   "nbconvert_exporter": "python",
   "pygments_lexer": "ipython3",
   "version": "3.10.6"
  }
 },
 "nbformat": 4,
 "nbformat_minor": 5
}
