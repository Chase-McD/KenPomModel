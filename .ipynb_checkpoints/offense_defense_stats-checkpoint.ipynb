{
 "cells": [
  {
   "cell_type": "code",
   "execution_count": 20,
   "id": "11479c3b",
   "metadata": {},
   "outputs": [
    {
     "name": "stdout",
     "output_type": "stream",
     "text": [
      "Requirement already satisfied: html5lib in c:\\users\\cmcdo\\appdata\\local\\programs\\python\\python310\\lib\\site-packages (1.1)\n",
      "Requirement already satisfied: webencodings in c:\\users\\cmcdo\\appdata\\local\\programs\\python\\python310\\lib\\site-packages (from html5lib) (0.5.1)\n",
      "Requirement already satisfied: six>=1.9 in c:\\users\\cmcdo\\appdata\\local\\programs\\python\\python310\\lib\\site-packages (from html5lib) (1.16.0)\n"
     ]
    }
   ],
   "source": [
    "!pip install html5lib\n"
   ]
  },
  {
   "cell_type": "code",
   "execution_count": 32,
   "id": "17cc63a6",
   "metadata": {},
   "outputs": [
    {
     "name": "stdout",
     "output_type": "stream",
     "text": [
      "[      #                      Team  Pts-A/G  FG-A%  3P-A%   BPG    SPG  Reb/G  \\\n",
      "0   NaN                HoustonHOU    50.33  32.41  23.94  5.50   8.75  37.42   \n",
      "1   NaN            North TexasUNT    51.64  38.29  32.20  2.55   6.55  32.45   \n",
      "2   NaN     Mississippi StateMSST    52.09  35.81  28.05  4.82  10.91  38.27   \n",
      "3   NaN             TennesseeTENN    53.55  33.62  20.25  4.27  10.91  37.73   \n",
      "4   NaN               RutgersRUTG    54.73  36.74  24.79  3.91  10.36  35.00   \n",
      "..   ..                       ...      ...    ...    ...   ...    ...    ...   \n",
      "358 NaN      Houston ChristianHCU    82.83  50.54  32.28  3.17   6.75  32.00   \n",
      "359 NaN           Monmouth-NJMONM    82.92  50.68  42.03  2.08   7.92  28.75   \n",
      "360 NaN  South Carolina StateSCST    85.38  50.59  37.58  3.08   7.69  31.23   \n",
      "361 NaN            Coppin St.COPP    85.92  47.23  34.83  2.00   8.38  28.62   \n",
      "362 NaN                    LIULIU    86.00  49.72  33.86  3.36   5.91  28.82   \n",
      "\n",
      "     Reb-A/G  Reb-M/G  \n",
      "0      27.33    10.08  \n",
      "1      26.55     5.91  \n",
      "2      28.27    10.00  \n",
      "3      30.27     7.45  \n",
      "4      30.73     4.27  \n",
      "..       ...      ...  \n",
      "358    31.08     0.92  \n",
      "359    32.42    -3.67  \n",
      "360    36.31    -5.08  \n",
      "361    38.23    -9.62  \n",
      "362    37.91    -9.09  \n",
      "\n",
      "[363 rows x 10 columns]]\n"
     ]
    },
    {
     "data": {
      "text/plain": [
       "list"
      ]
     },
     "execution_count": 32,
     "metadata": {},
     "output_type": "execute_result"
    }
   ],
   "source": [
    "# Reb-A/G is rebounds against per game\n",
    "# Reb-M/G is the rebound margin\n",
    "import pandas as pd\n",
    "import requests\n",
    "\n",
    "\n",
    "offense = pd.read_html('https://www.covers.com/sport/basketball/ncaab/statistics/team-offense/2022-2023')\n",
    "defense = pd.read_html('https://www.covers.com/sport/basketball/ncaab/statistics/team-defense/2022-2023')\n",
    "print(defense)\n",
    "player_stats = pd.read_html('https://basketball.realgm.com/ncaa/stats/2023/Averages/Qualified/All/Season/All/player/asc/1/')\n",
    "# defense.to_csv('C:/User/cmcdo/OneDrive - University of Tennessee/Desktop/Fall Term 2022/defense.csv')\n",
    "\n",
    "# for i in range(2):\n",
    "#     url = 'https://basketball.realgm.com/ncaa/stats/2023/Averages/Qualified/All/Season/All/player/asc/{}/'.format(i)\n",
    "#     table_100 = pd.read_html(url)\n",
    "#     print(table)\n",
    "    \n",
    "type(defense)\n",
    "# need to change the data here from list to df\n",
    "# https://www.geeksforgeeks.org/create-a-pandas-dataframe-from-lists/"
   ]
  },
  {
   "cell_type": "code",
   "execution_count": null,
   "id": "43c059f5",
   "metadata": {},
   "outputs": [],
   "source": []
  },
  {
   "cell_type": "code",
   "execution_count": null,
   "id": "d7eb1ffe",
   "metadata": {},
   "outputs": [],
   "source": []
  }
 ],
 "metadata": {
  "kernelspec": {
   "display_name": "Python 3 (ipykernel)",
   "language": "python",
   "name": "python3"
  },
  "language_info": {
   "codemirror_mode": {
    "name": "ipython",
    "version": 3
   },
   "file_extension": ".py",
   "mimetype": "text/x-python",
   "name": "python",
   "nbconvert_exporter": "python",
   "pygments_lexer": "ipython3",
   "version": "3.10.6"
  }
 },
 "nbformat": 4,
 "nbformat_minor": 5
}
